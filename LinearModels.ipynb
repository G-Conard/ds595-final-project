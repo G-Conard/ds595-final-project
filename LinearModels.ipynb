{
  "nbformat": 4,
  "nbformat_minor": 0,
  "metadata": {
    "colab": {
      "provenance": [],
      "authorship_tag": "ABX9TyNBDDZnYIbS+gqUsBiwjfb8",
      "include_colab_link": true
    },
    "kernelspec": {
      "name": "python3",
      "display_name": "Python 3"
    },
    "language_info": {
      "name": "python"
    }
  },
  "cells": [
    {
      "cell_type": "markdown",
      "metadata": {
        "id": "view-in-github",
        "colab_type": "text"
      },
      "source": [
        "<a href=\"https://colab.research.google.com/github/G-Conard/ds595-final-project/blob/main/LinearModels.ipynb\" target=\"_parent\"><img src=\"https://colab.research.google.com/assets/colab-badge.svg\" alt=\"Open In Colab\"/></a>"
      ]
    },
    {
      "cell_type": "code",
      "execution_count": null,
      "metadata": {
        "id": "tfMeXTGyyi6f"
      },
      "outputs": [],
      "source": [
        "# Import libraries\n",
        "import numpy as np\n",
        "import matplotlib.pylab as py\n",
        "import random\n",
        "import time\n",
        "from sklearn.model_selection import train_test_split\n",
        "from sklearn.metrics import mean_absolute_error, r2_score, mean_squared_error\n",
        "import concurrent.futures\n",
        "from tabulate import tabulate\n",
        "from sklearn.utils import resample\n",
        "from sklearn.model_selection import cross_val_score\n",
        "from sklearn import linear_model\n",
        "from sklearn.neighbors import KNeighborsRegressor\n",
        "import matplotlib.pyplot as plt\n",
        "%matplotlib inline\n",
        "import seaborn as sns\n",
        "import plotly.express as px\n",
        "from sklearn.feature_selection import SelectKBest, f_regression\n",
        "from sklearn.preprocessing import StandardScaler\n",
        "import pandas as pd\n",
        "from sklearn.tree import DecisionTreeRegressor\n",
        "from sklearn.metrics import accuracy_score, f1_score, precision_score, recall_score\n",
        "from sklearn.feature_extraction import FeatureHasher\n",
        "from sklearn.metrics import confusion_matrix\n",
        "from sklearn.ensemble import RandomForestRegressor\n",
        "from sklearn.decomposition import PCA\n",
        "from sklearn.decomposition import SparsePCA\n",
        "from sklearn.decomposition import FactorAnalysis\n",
        "from sklearn.decomposition import FastICA\n",
        "from sklearn.decomposition import MiniBatchSparsePCA\n",
        "from sklearn.decomposition import IncrementalPCA\n",
        "from sklearn.decomposition import FastICA\n",
        "from numpy import savetxt\n",
        "from numpy import loadtxt\n",
        "import datetime\n",
        "from sklearn.metrics import mean_absolute_percentage_error\n",
        "\n",
        "import warnings\n",
        "warnings.filterwarnings('ignore')\n"
      ]
    },
    {
      "cell_type": "markdown",
      "source": [
        "Import data:"
      ],
      "metadata": {
        "id": "NHc86NTR19cJ"
      }
    },
    {
      "cell_type": "code",
      "source": [
        "import pandas as pd\n",
        "data = pd.read_csv('https://raw.githubusercontent.com/G-Conard/ds595-final-project/main/weather_stations_data.csv')\n",
        "\n",
        "raw_data = data.dropna() #use this raw_data var to act as the raw dataset once imported please\n",
        "\n",
        "print(raw_data.head())"
      ],
      "metadata": {
        "id": "yjuifqZV2Mqi"
      },
      "execution_count": null,
      "outputs": []
    },
    {
      "cell_type": "markdown",
      "source": [],
      "metadata": {
        "id": "Lvzc3aeu2PLR"
      }
    },
    {
      "cell_type": "code",
      "source": [
        "raw_data = raw_data.drop(['id', 'station_id', 'timestamp'], axis=1)\n",
        "print(raw_data.head())"
      ],
      "metadata": {
        "id": "x_eLe44_2UF7"
      },
      "execution_count": null,
      "outputs": []
    },
    {
      "cell_type": "markdown",
      "source": [
        "Select features"
      ],
      "metadata": {
        "id": "DvT5pCUU29gB"
      }
    },
    {
      "cell_type": "code",
      "source": [
        "#Analyze the individual predictors and their correlations with the target variable\n",
        "\n",
        "#the Feature to predict in the dataset, and the Column predictors in the datasets\n",
        "Feature = [\"heat_index\"]\n",
        "Labels = ['tempc', 'humidity', 'dewptc', 'windchillc', 'winddir', 'windspeedkmh',\n",
        "          'windgustkmh', 'rainmm', 'dailyrainmm', 'weeklyrainmm', 'monthlyrainmm',\n",
        "          'yearlyrainmm', 'solarradiation', 'UV', 'indoortempc', 'indoorhumidity',\n",
        "          'absbarohpa', 'barohpa', 'rad_tempc', 'rad_hum', 'aqpm25']"
      ],
      "metadata": {
        "id": "2cH7IoLc29_g"
      },
      "execution_count": null,
      "outputs": []
    },
    {
      "cell_type": "markdown",
      "source": [],
      "metadata": {
        "id": "oEmmlnGz3CPv"
      }
    },
    {
      "cell_type": "code",
      "source": [
        "raw_data.describe()"
      ],
      "metadata": {
        "id": "jT_CejUq3bez"
      },
      "execution_count": null,
      "outputs": []
    },
    {
      "cell_type": "code",
      "source": [
        "#plt.figure(figsize=(15,15))\n",
        "#cor = raw_data.corr()\n",
        "#sns.heatmap(cor, annot=True,cmap=plt.cm.Reds)\n",
        "#plt.show()\n",
        "#\n",
        "#sns.pairplot(raw_data)\n",
        "#\n",
        "#plt.figure(figsize=(25,8))\n",
        "#Temp_x=raw_data[Labels]\n",
        "#Temp_y=raw_data[Feature]\n",
        "#selectKbest = SelectKBest(score_func=f_regression, k='all')\n",
        "#Temp_fit = selectKbest.fit(Temp_x,Temp_y)\n",
        "#plt.bar(x=Temp_x.columns,height=Temp_fit.scores_)\n",
        "#plt.tight_layout()\n",
        "#plt.show()\n",
        "#\n",
        "#plt.figure(figsize=(20,20))\n",
        "#plt.subplots_adjust(wspace=0.5)\n",
        "## iterate over all of the columns\n",
        "#for i,c in enumerate(raw_data.columns):\n",
        "#    if c != Feature[0]:\n",
        "#        plt.subplot(((len(raw_data.columns)+3) // 4), 4, i+1)\n",
        "#        plt.title(c)\n",
        "#        plt.boxplot(raw_data[c])\n",
        "#plt.tight_layout()\n",
        "#plt.show()"
      ],
      "metadata": {
        "id": "WHrhcomd3Cpe"
      },
      "execution_count": null,
      "outputs": []
    },
    {
      "cell_type": "markdown",
      "source": [],
      "metadata": {
        "id": "M5WECJ4F3h57"
      }
    },
    {
      "cell_type": "code",
      "source": [
        "#perform feature engineering here to create multiple trial data sets then add the data set and label into FeatureEngineeredDatasetsList below\n",
        "\n",
        "#filter the dataset for outliers\n",
        "data_filt = raw_data\n",
        "for t,v in enumerate(data_filt.columns):\n",
        "  mean = data_filt[v].mean()\n",
        "  std = data_filt[v].std()\n",
        "  idx = (abs((data_filt[v] - mean) / std) < 3)\n",
        "  data_filt = data_filt[idx]"
      ],
      "metadata": {
        "id": "-Va5D7iu3ikZ"
      },
      "execution_count": null,
      "outputs": []
    },
    {
      "cell_type": "markdown",
      "source": [],
      "metadata": {
        "id": "zsd7NBXH3q_-"
      }
    },
    {
      "cell_type": "code",
      "source": [],
      "metadata": {
        "id": "hCXzT0fY3rWu"
      },
      "execution_count": null,
      "outputs": []
    }
  ]
}